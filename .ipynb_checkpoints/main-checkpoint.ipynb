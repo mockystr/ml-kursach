{
 "cells": [
  {
   "cell_type": "code",
   "execution_count": 1,
   "metadata": {},
   "outputs": [],
   "source": [
    "import numpy as np\n",
    "import pandas as pd\n",
    "import matplotlib.pyplot as plt\n",
    "import seaborn as sns\n",
    "from sklearn.model_selection import train_test_split, GridSearchCV\n",
    "from sklearn.metrics import r2_score, mean_squared_error, mean_absolute_error\n",
    "from sklearn.preprocessing import LabelEncoder, MinMaxScaler\n",
    "from sklearn.model_selection import cross_val_score\n",
    "\n",
    "from xgboost import XGBRegressor\n",
    "from sklearn.svm import SVR\n",
    "from sklearn.ensemble import RandomForestRegressor\n",
    "\n",
    "%matplotlib inline"
   ]
  },
  {
   "cell_type": "code",
   "execution_count": 2,
   "metadata": {},
   "outputs": [],
   "source": [
    "import warnings\n",
    "warnings.filterwarnings('ignore')"
   ]
  },
  {
   "cell_type": "markdown",
   "metadata": {},
   "source": [
    "# 1. Поиск и выбор набора данных для построения моделей машинного обучения. На основе выбранного набора данных студент должен построить модели машинного обучения для решения или задачи классификации, или задачи регрессии."
   ]
  },
  {
   "cell_type": "code",
   "execution_count": 3,
   "metadata": {},
   "outputs": [
    {
     "data": {
      "text/plain": [
       "(2000, 10)"
      ]
     },
     "execution_count": 3,
     "metadata": {},
     "output_type": "execute_result"
    }
   ],
   "source": [
    "origin_data = pd.read_csv('forbes-top-2000-companies/Forbes Top2000 2017.csv')\n",
    "origin_data.shape"
   ]
  },
  {
   "cell_type": "markdown",
   "metadata": {},
   "source": [
    "# 2. Проведение разведочного анализа данных. Построение графиков, необходимых для понимания структуры данных. Анализ и заполнение пропусков в данных."
   ]
  },
  {
   "cell_type": "code",
   "execution_count": 4,
   "metadata": {},
   "outputs": [
    {
     "data": {
      "text/html": [
       "<div>\n",
       "<style scoped>\n",
       "    .dataframe tbody tr th:only-of-type {\n",
       "        vertical-align: middle;\n",
       "    }\n",
       "\n",
       "    .dataframe tbody tr th {\n",
       "        vertical-align: top;\n",
       "    }\n",
       "\n",
       "    .dataframe thead th {\n",
       "        text-align: right;\n",
       "    }\n",
       "</style>\n",
       "<table border=\"1\" class=\"dataframe\">\n",
       "  <thead>\n",
       "    <tr style=\"text-align: right;\">\n",
       "      <th></th>\n",
       "      <th>Unnamed: 0</th>\n",
       "      <th>Rank</th>\n",
       "      <th>Company</th>\n",
       "      <th>Country</th>\n",
       "      <th>Sales</th>\n",
       "      <th>Profits</th>\n",
       "      <th>Assets</th>\n",
       "      <th>Market Value</th>\n",
       "      <th>Sector</th>\n",
       "      <th>Industry</th>\n",
       "    </tr>\n",
       "  </thead>\n",
       "  <tbody>\n",
       "    <tr>\n",
       "      <th>0</th>\n",
       "      <td>NaN</td>\n",
       "      <td>1</td>\n",
       "      <td>ICBC</td>\n",
       "      <td>China</td>\n",
       "      <td>151.4</td>\n",
       "      <td>42.0</td>\n",
       "      <td>3473.2</td>\n",
       "      <td>229.8</td>\n",
       "      <td>Financials</td>\n",
       "      <td>Major Banks</td>\n",
       "    </tr>\n",
       "    <tr>\n",
       "      <th>1</th>\n",
       "      <td>NaN</td>\n",
       "      <td>2</td>\n",
       "      <td>China Construction Bank</td>\n",
       "      <td>China</td>\n",
       "      <td>134.2</td>\n",
       "      <td>35.0</td>\n",
       "      <td>3016.6</td>\n",
       "      <td>200.5</td>\n",
       "      <td>Financials</td>\n",
       "      <td>Regional Banks</td>\n",
       "    </tr>\n",
       "    <tr>\n",
       "      <th>2</th>\n",
       "      <td>NaN</td>\n",
       "      <td>3</td>\n",
       "      <td>Berkshire Hathaway</td>\n",
       "      <td>United States</td>\n",
       "      <td>222.9</td>\n",
       "      <td>24.1</td>\n",
       "      <td>620.9</td>\n",
       "      <td>409.9</td>\n",
       "      <td>Financials</td>\n",
       "      <td>Investment Services</td>\n",
       "    </tr>\n",
       "    <tr>\n",
       "      <th>3</th>\n",
       "      <td>NaN</td>\n",
       "      <td>4</td>\n",
       "      <td>JPMorgan Chase</td>\n",
       "      <td>United States</td>\n",
       "      <td>102.5</td>\n",
       "      <td>24.2</td>\n",
       "      <td>2513.0</td>\n",
       "      <td>306.6</td>\n",
       "      <td>Financials</td>\n",
       "      <td>Major Banks</td>\n",
       "    </tr>\n",
       "    <tr>\n",
       "      <th>4</th>\n",
       "      <td>NaN</td>\n",
       "      <td>5</td>\n",
       "      <td>Wells Fargo</td>\n",
       "      <td>United States</td>\n",
       "      <td>97.6</td>\n",
       "      <td>21.9</td>\n",
       "      <td>1943.4</td>\n",
       "      <td>274.4</td>\n",
       "      <td>Financials</td>\n",
       "      <td>Major Banks</td>\n",
       "    </tr>\n",
       "    <tr>\n",
       "      <th>5</th>\n",
       "      <td>NaN</td>\n",
       "      <td>6</td>\n",
       "      <td>Agricultural Bank of China</td>\n",
       "      <td>China</td>\n",
       "      <td>115.7</td>\n",
       "      <td>27.8</td>\n",
       "      <td>2816.0</td>\n",
       "      <td>149.2</td>\n",
       "      <td>Financials</td>\n",
       "      <td>Regional Banks</td>\n",
       "    </tr>\n",
       "    <tr>\n",
       "      <th>6</th>\n",
       "      <td>NaN</td>\n",
       "      <td>7</td>\n",
       "      <td>Bank of America</td>\n",
       "      <td>United States</td>\n",
       "      <td>92.2</td>\n",
       "      <td>16.6</td>\n",
       "      <td>2196.8</td>\n",
       "      <td>231.9</td>\n",
       "      <td>Financials</td>\n",
       "      <td>Major Banks</td>\n",
       "    </tr>\n",
       "    <tr>\n",
       "      <th>7</th>\n",
       "      <td>NaN</td>\n",
       "      <td>8</td>\n",
       "      <td>Bank of China</td>\n",
       "      <td>China</td>\n",
       "      <td>113.1</td>\n",
       "      <td>24.9</td>\n",
       "      <td>2611.5</td>\n",
       "      <td>141.3</td>\n",
       "      <td>Financials</td>\n",
       "      <td>Major Banks</td>\n",
       "    </tr>\n",
       "    <tr>\n",
       "      <th>8</th>\n",
       "      <td>NaN</td>\n",
       "      <td>9</td>\n",
       "      <td>Apple</td>\n",
       "      <td>United States</td>\n",
       "      <td>217.5</td>\n",
       "      <td>45.2</td>\n",
       "      <td>331.1</td>\n",
       "      <td>752.0</td>\n",
       "      <td>Information Technology</td>\n",
       "      <td>Computer Hardware</td>\n",
       "    </tr>\n",
       "    <tr>\n",
       "      <th>9</th>\n",
       "      <td>NaN</td>\n",
       "      <td>10</td>\n",
       "      <td>Toyota Motor</td>\n",
       "      <td>Japan</td>\n",
       "      <td>249.9</td>\n",
       "      <td>17.1</td>\n",
       "      <td>412.5</td>\n",
       "      <td>171.9</td>\n",
       "      <td>Consumer Discretionary</td>\n",
       "      <td>Auto &amp; Truck Manufacturers</td>\n",
       "    </tr>\n",
       "  </tbody>\n",
       "</table>\n",
       "</div>"
      ],
      "text/plain": [
       "   Unnamed: 0   Rank                     Company        Country  Sales  \\\n",
       "0         NaN      1                        ICBC          China  151.4   \n",
       "1         NaN      2     China Construction Bank          China  134.2   \n",
       "2         NaN      3          Berkshire Hathaway  United States  222.9   \n",
       "3         NaN      4              JPMorgan Chase  United States  102.5   \n",
       "4         NaN      5                 Wells Fargo  United States   97.6   \n",
       "5         NaN      6  Agricultural Bank of China          China  115.7   \n",
       "6         NaN      7             Bank of America  United States   92.2   \n",
       "7         NaN      8               Bank of China          China  113.1   \n",
       "8         NaN      9                       Apple  United States  217.5   \n",
       "9         NaN     10                Toyota Motor          Japan  249.9   \n",
       "\n",
       "   Profits  Assets  Market Value                  Sector  \\\n",
       "0     42.0  3473.2         229.8              Financials   \n",
       "1     35.0  3016.6         200.5              Financials   \n",
       "2     24.1   620.9         409.9              Financials   \n",
       "3     24.2  2513.0         306.6              Financials   \n",
       "4     21.9  1943.4         274.4              Financials   \n",
       "5     27.8  2816.0         149.2              Financials   \n",
       "6     16.6  2196.8         231.9              Financials   \n",
       "7     24.9  2611.5         141.3              Financials   \n",
       "8     45.2   331.1         752.0  Information Technology   \n",
       "9     17.1   412.5         171.9  Consumer Discretionary   \n",
       "\n",
       "                     Industry  \n",
       "0                 Major Banks  \n",
       "1              Regional Banks  \n",
       "2         Investment Services  \n",
       "3                 Major Banks  \n",
       "4                 Major Banks  \n",
       "5              Regional Banks  \n",
       "6                 Major Banks  \n",
       "7                 Major Banks  \n",
       "8           Computer Hardware  \n",
       "9  Auto & Truck Manufacturers  "
      ]
     },
     "execution_count": 4,
     "metadata": {},
     "output_type": "execute_result"
    }
   ],
   "source": [
    "origin_data.head(10)"
   ]
  },
  {
   "cell_type": "code",
   "execution_count": 5,
   "metadata": {},
   "outputs": [
    {
     "data": {
      "text/plain": [
       "Unnamed: 0      float64\n",
       " Rank             int64\n",
       "Company          object\n",
       "Country          object\n",
       "Sales           float64\n",
       "Profits         float64\n",
       "Assets          float64\n",
       "Market Value    float64\n",
       "Sector           object\n",
       "Industry         object\n",
       "dtype: object"
      ]
     },
     "execution_count": 5,
     "metadata": {},
     "output_type": "execute_result"
    }
   ],
   "source": [
    "origin_data.dtypes"
   ]
  },
  {
   "cell_type": "code",
   "execution_count": 6,
   "metadata": {},
   "outputs": [
    {
     "data": {
      "text/plain": [
       "Unnamed: 0      2000\n",
       " Rank              0\n",
       "Company            0\n",
       "Country            0\n",
       "Sales              0\n",
       "Profits            0\n",
       "Assets             0\n",
       "Market Value       0\n",
       "Sector           197\n",
       "Industry         491\n",
       "dtype: int64"
      ]
     },
     "execution_count": 6,
     "metadata": {},
     "output_type": "execute_result"
    }
   ],
   "source": [
    "origin_data.isnull().sum()"
   ]
  },
  {
   "cell_type": "code",
   "execution_count": 7,
   "metadata": {},
   "outputs": [],
   "source": [
    "origin_data.drop([\"Unnamed: 0\", \" Rank\", \"Company\"], axis=1, inplace=True)"
   ]
  },
  {
   "cell_type": "code",
   "execution_count": 8,
   "metadata": {},
   "outputs": [
    {
     "data": {
      "text/html": [
       "<div>\n",
       "<style scoped>\n",
       "    .dataframe tbody tr th:only-of-type {\n",
       "        vertical-align: middle;\n",
       "    }\n",
       "\n",
       "    .dataframe tbody tr th {\n",
       "        vertical-align: top;\n",
       "    }\n",
       "\n",
       "    .dataframe thead th {\n",
       "        text-align: right;\n",
       "    }\n",
       "</style>\n",
       "<table border=\"1\" class=\"dataframe\">\n",
       "  <thead>\n",
       "    <tr style=\"text-align: right;\">\n",
       "      <th></th>\n",
       "      <th>Country</th>\n",
       "      <th>Sales</th>\n",
       "      <th>Profits</th>\n",
       "      <th>Assets</th>\n",
       "      <th>Market Value</th>\n",
       "      <th>Sector</th>\n",
       "      <th>Industry</th>\n",
       "    </tr>\n",
       "  </thead>\n",
       "  <tbody>\n",
       "    <tr>\n",
       "      <th>0</th>\n",
       "      <td>China</td>\n",
       "      <td>151.4</td>\n",
       "      <td>42.0</td>\n",
       "      <td>3473.2</td>\n",
       "      <td>229.8</td>\n",
       "      <td>Financials</td>\n",
       "      <td>Major Banks</td>\n",
       "    </tr>\n",
       "    <tr>\n",
       "      <th>1</th>\n",
       "      <td>China</td>\n",
       "      <td>134.2</td>\n",
       "      <td>35.0</td>\n",
       "      <td>3016.6</td>\n",
       "      <td>200.5</td>\n",
       "      <td>Financials</td>\n",
       "      <td>Regional Banks</td>\n",
       "    </tr>\n",
       "    <tr>\n",
       "      <th>2</th>\n",
       "      <td>United States</td>\n",
       "      <td>222.9</td>\n",
       "      <td>24.1</td>\n",
       "      <td>620.9</td>\n",
       "      <td>409.9</td>\n",
       "      <td>Financials</td>\n",
       "      <td>Investment Services</td>\n",
       "    </tr>\n",
       "    <tr>\n",
       "      <th>3</th>\n",
       "      <td>United States</td>\n",
       "      <td>102.5</td>\n",
       "      <td>24.2</td>\n",
       "      <td>2513.0</td>\n",
       "      <td>306.6</td>\n",
       "      <td>Financials</td>\n",
       "      <td>Major Banks</td>\n",
       "    </tr>\n",
       "    <tr>\n",
       "      <th>4</th>\n",
       "      <td>United States</td>\n",
       "      <td>97.6</td>\n",
       "      <td>21.9</td>\n",
       "      <td>1943.4</td>\n",
       "      <td>274.4</td>\n",
       "      <td>Financials</td>\n",
       "      <td>Major Banks</td>\n",
       "    </tr>\n",
       "    <tr>\n",
       "      <th>5</th>\n",
       "      <td>China</td>\n",
       "      <td>115.7</td>\n",
       "      <td>27.8</td>\n",
       "      <td>2816.0</td>\n",
       "      <td>149.2</td>\n",
       "      <td>Financials</td>\n",
       "      <td>Regional Banks</td>\n",
       "    </tr>\n",
       "    <tr>\n",
       "      <th>6</th>\n",
       "      <td>United States</td>\n",
       "      <td>92.2</td>\n",
       "      <td>16.6</td>\n",
       "      <td>2196.8</td>\n",
       "      <td>231.9</td>\n",
       "      <td>Financials</td>\n",
       "      <td>Major Banks</td>\n",
       "    </tr>\n",
       "    <tr>\n",
       "      <th>7</th>\n",
       "      <td>China</td>\n",
       "      <td>113.1</td>\n",
       "      <td>24.9</td>\n",
       "      <td>2611.5</td>\n",
       "      <td>141.3</td>\n",
       "      <td>Financials</td>\n",
       "      <td>Major Banks</td>\n",
       "    </tr>\n",
       "    <tr>\n",
       "      <th>8</th>\n",
       "      <td>United States</td>\n",
       "      <td>217.5</td>\n",
       "      <td>45.2</td>\n",
       "      <td>331.1</td>\n",
       "      <td>752.0</td>\n",
       "      <td>Information Technology</td>\n",
       "      <td>Computer Hardware</td>\n",
       "    </tr>\n",
       "    <tr>\n",
       "      <th>9</th>\n",
       "      <td>Japan</td>\n",
       "      <td>249.9</td>\n",
       "      <td>17.1</td>\n",
       "      <td>412.5</td>\n",
       "      <td>171.9</td>\n",
       "      <td>Consumer Discretionary</td>\n",
       "      <td>Auto &amp; Truck Manufacturers</td>\n",
       "    </tr>\n",
       "  </tbody>\n",
       "</table>\n",
       "</div>"
      ],
      "text/plain": [
       "         Country  Sales  Profits  Assets  Market Value  \\\n",
       "0          China  151.4     42.0  3473.2         229.8   \n",
       "1          China  134.2     35.0  3016.6         200.5   \n",
       "2  United States  222.9     24.1   620.9         409.9   \n",
       "3  United States  102.5     24.2  2513.0         306.6   \n",
       "4  United States   97.6     21.9  1943.4         274.4   \n",
       "5          China  115.7     27.8  2816.0         149.2   \n",
       "6  United States   92.2     16.6  2196.8         231.9   \n",
       "7          China  113.1     24.9  2611.5         141.3   \n",
       "8  United States  217.5     45.2   331.1         752.0   \n",
       "9          Japan  249.9     17.1   412.5         171.9   \n",
       "\n",
       "                   Sector                    Industry  \n",
       "0              Financials                 Major Banks  \n",
       "1              Financials              Regional Banks  \n",
       "2              Financials         Investment Services  \n",
       "3              Financials                 Major Banks  \n",
       "4              Financials                 Major Banks  \n",
       "5              Financials              Regional Banks  \n",
       "6              Financials                 Major Banks  \n",
       "7              Financials                 Major Banks  \n",
       "8  Information Technology           Computer Hardware  \n",
       "9  Consumer Discretionary  Auto & Truck Manufacturers  "
      ]
     },
     "execution_count": 8,
     "metadata": {},
     "output_type": "execute_result"
    }
   ],
   "source": [
    "origin_data.head(10)"
   ]
  },
  {
   "cell_type": "code",
   "execution_count": 9,
   "metadata": {},
   "outputs": [
    {
     "data": {
      "text/plain": [
       "Country           0\n",
       "Sales             0\n",
       "Profits           0\n",
       "Assets            0\n",
       "Market Value      0\n",
       "Sector          197\n",
       "Industry        491\n",
       "dtype: int64"
      ]
     },
     "execution_count": 9,
     "metadata": {},
     "output_type": "execute_result"
    }
   ],
   "source": [
    "origin_data.isnull().sum()"
   ]
  },
  {
   "cell_type": "code",
   "execution_count": 10,
   "metadata": {},
   "outputs": [],
   "source": [
    "data = origin_data.dropna(axis=0, how='any')\n",
    "data.is_copy = False"
   ]
  },
  {
   "cell_type": "code",
   "execution_count": 11,
   "metadata": {
    "scrolled": true
   },
   "outputs": [
    {
     "data": {
      "text/plain": [
       "United States     410\n",
       "Japan             192\n",
       "China             110\n",
       "United Kingdom     72\n",
       "France             51\n",
       "India              49\n",
       "South Korea        47\n",
       "Canada             44\n",
       "Taiwan             41\n",
       "Germany            40\n",
       "Name: Country, dtype: int64"
      ]
     },
     "execution_count": 11,
     "metadata": {},
     "output_type": "execute_result"
    }
   ],
   "source": [
    "data['Country'].value_counts()[:10]"
   ]
  },
  {
   "cell_type": "code",
   "execution_count": 12,
   "metadata": {},
   "outputs": [
    {
     "data": {
      "image/png": "[encoded data removed]",
      "text/plain": [
       "<Figure size 1080x720 with 1 Axes>"
      ]
     },
     "metadata": {},
     "output_type": "display_data"
    }
   ],
   "source": [
    "fig, ax = plt.subplots(1,1,figsize=(15,10))\n",
    "data['Country'].value_counts()[:20].plot(kind='pie', autopct='%.2f', shadow=True);\n",
    "plt.xlabel(\"Распределение топ 20 компаний по странам\");"
   ]
  },
  {
   "cell_type": "code",
   "execution_count": 13,
   "metadata": {},
   "outputs": [
    {
     "data": {
      "text/plain": [
       "<matplotlib.axes._subplots.AxesSubplot at 0x108c3a7b8>"
      ]
     },
     "execution_count": 13,
     "metadata": {},
     "output_type": "execute_result"
    },
    {
     "data": {
      "image/png": "[encoded data removed]",
      "text/plain": [
       "<Figure size 1080x720 with 1 Axes>"
      ]
     },
     "metadata": {
      "needs_background": "light"
     },
     "output_type": "display_data"
    }
   ],
   "source": [
    "fig, ax = plt.subplots(figsize=(15,10)) \n",
    "sns.distplot(data['Profits'])"
   ]
  },
  {
   "cell_type": "code",
   "execution_count": 14,
   "metadata": {},
   "outputs": [],
   "source": [
    "def encode_columns(origin_data):\n",
    "    data = origin_data\n",
    "    data.is_copy = False\n",
    "    encoder = LabelEncoder()\n",
    "    cols = [\"Country\", \"Sector\", \"Industry\"]\n",
    "\n",
    "    for col in cols:\n",
    "        data[col] = encoder.fit_transform(data[col])\n",
    "\n",
    "    return data"
   ]
  },
  {
   "cell_type": "code",
   "execution_count": 15,
   "metadata": {},
   "outputs": [],
   "source": [
    "data = encode_columns(data)"
   ]
  },
  {
   "cell_type": "markdown",
   "metadata": {},
   "source": [
    "# 4. Проведение корреляционного анализа данных. Формирование промежуточных выводов о возможности построения моделей машинного обучения. В зависимости от набора данных, порядок выполнения пунктов 2, 3, 4 может быть изменен."
   ]
  },
  {
   "cell_type": "code",
   "execution_count": 16,
   "metadata": {},
   "outputs": [
    {
     "data": {
      "text/html": [
       "<style  type=\"text/css\" >\n",
       "    #T_d6b6f8c4_8189_11e9_8606_acde48001122row0_col0 {\n",
       "            background-color:  #b40426;\n",
       "            color:  #f1f1f1;\n",
       "        }    #T_d6b6f8c4_8189_11e9_8606_acde48001122row0_col1 {\n",
       "            background-color:  #5f7fe8;\n",
       "            color:  #000000;\n",
       "        }    #T_d6b6f8c4_8189_11e9_8606_acde48001122row0_col2 {\n",
       "            background-color:  #4b64d5;\n",
       "            color:  #f1f1f1;\n",
       "        }    #T_d6b6f8c4_8189_11e9_8606_acde48001122row0_col3 {\n",
       "            background-color:  #3d50c3;\n",
       "            color:  #f1f1f1;\n",
       "        }    #T_d6b6f8c4_8189_11e9_8606_acde48001122row0_col4 {\n",
       "            background-color:  #6485ec;\n",
       "            color:  #000000;\n",
       "        }    #T_d6b6f8c4_8189_11e9_8606_acde48001122row0_col5 {\n",
       "            background-color:  #3b4cc0;\n",
       "            color:  #f1f1f1;\n",
       "        }    #T_d6b6f8c4_8189_11e9_8606_acde48001122row0_col6 {\n",
       "            background-color:  #5b7ae5;\n",
       "            color:  #000000;\n",
       "        }    #T_d6b6f8c4_8189_11e9_8606_acde48001122row1_col0 {\n",
       "            background-color:  #516ddb;\n",
       "            color:  #000000;\n",
       "        }    #T_d6b6f8c4_8189_11e9_8606_acde48001122row1_col1 {\n",
       "            background-color:  #b40426;\n",
       "            color:  #f1f1f1;\n",
       "        }    #T_d6b6f8c4_8189_11e9_8606_acde48001122row1_col2 {\n",
       "            background-color:  #ecd3c5;\n",
       "            color:  #000000;\n",
       "        }    #T_d6b6f8c4_8189_11e9_8606_acde48001122row1_col3 {\n",
       "            background-color:  #c3d5f4;\n",
       "            color:  #000000;\n",
       "        }    #T_d6b6f8c4_8189_11e9_8606_acde48001122row1_col4 {\n",
       "            background-color:  #f1cdba;\n",
       "            color:  #000000;\n",
       "        }    #T_d6b6f8c4_8189_11e9_8606_acde48001122row1_col5 {\n",
       "            background-color:  #3b4cc0;\n",
       "            color:  #f1f1f1;\n",
       "        }    #T_d6b6f8c4_8189_11e9_8606_acde48001122row1_col6 {\n",
       "            background-color:  #3b4cc0;\n",
       "            color:  #f1f1f1;\n",
       "        }    #T_d6b6f8c4_8189_11e9_8606_acde48001122row2_col0 {\n",
       "            background-color:  #5572df;\n",
       "            color:  #000000;\n",
       "        }    #T_d6b6f8c4_8189_11e9_8606_acde48001122row2_col1 {\n",
       "            background-color:  #f1ccb8;\n",
       "            color:  #000000;\n",
       "        }    #T_d6b6f8c4_8189_11e9_8606_acde48001122row2_col2 {\n",
       "            background-color:  #b40426;\n",
       "            color:  #f1f1f1;\n",
       "        }    #T_d6b6f8c4_8189_11e9_8606_acde48001122row2_col3 {\n",
       "            background-color:  #f2cab5;\n",
       "            color:  #000000;\n",
       "        }    #T_d6b6f8c4_8189_11e9_8606_acde48001122row2_col4 {\n",
       "            background-color:  #f49a7b;\n",
       "            color:  #000000;\n",
       "        }    #T_d6b6f8c4_8189_11e9_8606_acde48001122row2_col5 {\n",
       "            background-color:  #455cce;\n",
       "            color:  #f1f1f1;\n",
       "        }    #T_d6b6f8c4_8189_11e9_8606_acde48001122row2_col6 {\n",
       "            background-color:  #5b7ae5;\n",
       "            color:  #000000;\n",
       "        }    #T_d6b6f8c4_8189_11e9_8606_acde48001122row3_col0 {\n",
       "            background-color:  #3d50c3;\n",
       "            color:  #f1f1f1;\n",
       "        }    #T_d6b6f8c4_8189_11e9_8606_acde48001122row3_col1 {\n",
       "            background-color:  #cad8ef;\n",
       "            color:  #000000;\n",
       "        }    #T_d6b6f8c4_8189_11e9_8606_acde48001122row3_col2 {\n",
       "            background-color:  #f0cdbb;\n",
       "            color:  #000000;\n",
       "        }    #T_d6b6f8c4_8189_11e9_8606_acde48001122row3_col3 {\n",
       "            background-color:  #b40426;\n",
       "            color:  #f1f1f1;\n",
       "        }    #T_d6b6f8c4_8189_11e9_8606_acde48001122row3_col4 {\n",
       "            background-color:  #b1cbfc;\n",
       "            color:  #000000;\n",
       "        }    #T_d6b6f8c4_8189_11e9_8606_acde48001122row3_col5 {\n",
       "            background-color:  #3b4cc0;\n",
       "            color:  #f1f1f1;\n",
       "        }    #T_d6b6f8c4_8189_11e9_8606_acde48001122row3_col6 {\n",
       "            background-color:  #7295f4;\n",
       "            color:  #000000;\n",
       "        }    #T_d6b6f8c4_8189_11e9_8606_acde48001122row4_col0 {\n",
       "            background-color:  #7295f4;\n",
       "            color:  #000000;\n",
       "        }    #T_d6b6f8c4_8189_11e9_8606_acde48001122row4_col1 {\n",
       "            background-color:  #f5c2aa;\n",
       "            color:  #000000;\n",
       "        }    #T_d6b6f8c4_8189_11e9_8606_acde48001122row4_col2 {\n",
       "            background-color:  #f4987a;\n",
       "            color:  #000000;\n",
       "        }    #T_d6b6f8c4_8189_11e9_8606_acde48001122row4_col3 {\n",
       "            background-color:  #bad0f8;\n",
       "            color:  #000000;\n",
       "        }    #T_d6b6f8c4_8189_11e9_8606_acde48001122row4_col4 {\n",
       "            background-color:  #b40426;\n",
       "            color:  #f1f1f1;\n",
       "        }    #T_d6b6f8c4_8189_11e9_8606_acde48001122row4_col5 {\n",
       "            background-color:  #4961d2;\n",
       "            color:  #f1f1f1;\n",
       "        }    #T_d6b6f8c4_8189_11e9_8606_acde48001122row4_col6 {\n",
       "            background-color:  #5875e1;\n",
       "            color:  #000000;\n",
       "        }    #T_d6b6f8c4_8189_11e9_8606_acde48001122row5_col0 {\n",
       "            background-color:  #3b4cc0;\n",
       "            color:  #f1f1f1;\n",
       "        }    #T_d6b6f8c4_8189_11e9_8606_acde48001122row5_col1 {\n",
       "            background-color:  #465ecf;\n",
       "            color:  #f1f1f1;\n",
       "        }    #T_d6b6f8c4_8189_11e9_8606_acde48001122row5_col2 {\n",
       "            background-color:  #3b4cc0;\n",
       "            color:  #f1f1f1;\n",
       "        }    #T_d6b6f8c4_8189_11e9_8606_acde48001122row5_col3 {\n",
       "            background-color:  #3b4cc0;\n",
       "            color:  #f1f1f1;\n",
       "        }    #T_d6b6f8c4_8189_11e9_8606_acde48001122row5_col4 {\n",
       "            background-color:  #3b4cc0;\n",
       "            color:  #f1f1f1;\n",
       "        }    #T_d6b6f8c4_8189_11e9_8606_acde48001122row5_col5 {\n",
       "            background-color:  #b40426;\n",
       "            color:  #f1f1f1;\n",
       "        }    #T_d6b6f8c4_8189_11e9_8606_acde48001122row5_col6 {\n",
       "            background-color:  #7295f4;\n",
       "            color:  #000000;\n",
       "        }    #T_d6b6f8c4_8189_11e9_8606_acde48001122row6_col0 {\n",
       "            background-color:  #4e68d8;\n",
       "            color:  #000000;\n",
       "        }    #T_d6b6f8c4_8189_11e9_8606_acde48001122row6_col1 {\n",
       "            background-color:  #3b4cc0;\n",
       "            color:  #f1f1f1;\n",
       "        }    #T_d6b6f8c4_8189_11e9_8606_acde48001122row6_col2 {\n",
       "            background-color:  #4358cb;\n",
       "            color:  #f1f1f1;\n",
       "        }    #T_d6b6f8c4_8189_11e9_8606_acde48001122row6_col3 {\n",
       "            background-color:  #6485ec;\n",
       "            color:  #000000;\n",
       "        }    #T_d6b6f8c4_8189_11e9_8606_acde48001122row6_col4 {\n",
       "            background-color:  #3c4ec2;\n",
       "            color:  #f1f1f1;\n",
       "        }    #T_d6b6f8c4_8189_11e9_8606_acde48001122row6_col5 {\n",
       "            background-color:  #6687ed;\n",
       "            color:  #000000;\n",
       "        }    #T_d6b6f8c4_8189_11e9_8606_acde48001122row6_col6 {\n",
       "            background-color:  #b40426;\n",
       "            color:  #f1f1f1;\n",
       "        }</style><table id=\"T_d6b6f8c4_8189_11e9_8606_acde48001122\" ><thead>    <tr>        <th class=\"blank level0\" ></th>        <th class=\"col_heading level0 col0\" >Country</th>        <th class=\"col_heading level0 col1\" >Sales</th>        <th class=\"col_heading level0 col2\" >Profits</th>        <th class=\"col_heading level0 col3\" >Assets</th>        <th class=\"col_heading level0 col4\" >Market Value</th>        <th class=\"col_heading level0 col5\" >Sector</th>        <th class=\"col_heading level0 col6\" >Industry</th>    </tr></thead><tbody>\n",
       "                <tr>\n",
       "                        <th id=\"T_d6b6f8c4_8189_11e9_8606_acde48001122level0_row0\" class=\"row_heading level0 row0\" >Country</th>\n",
       "                        <td id=\"T_d6b6f8c4_8189_11e9_8606_acde48001122row0_col0\" class=\"data row0 col0\" >1</td>\n",
       "                        <td id=\"T_d6b6f8c4_8189_11e9_8606_acde48001122row0_col1\" class=\"data row0 col1\" >0.0186269</td>\n",
       "                        <td id=\"T_d6b6f8c4_8189_11e9_8606_acde48001122row0_col2\" class=\"data row0 col2\" >0.0305866</td>\n",
       "                        <td id=\"T_d6b6f8c4_8189_11e9_8606_acde48001122row0_col3\" class=\"data row0 col3\" >-0.0494079</td>\n",
       "                        <td id=\"T_d6b6f8c4_8189_11e9_8606_acde48001122row0_col4\" class=\"data row0 col4\" >0.122502</td>\n",
       "                        <td id=\"T_d6b6f8c4_8189_11e9_8606_acde48001122row0_col5\" class=\"data row0 col5\" >-0.0612744</td>\n",
       "                        <td id=\"T_d6b6f8c4_8189_11e9_8606_acde48001122row0_col6\" class=\"data row0 col6\" >0.00640246</td>\n",
       "            </tr>\n",
       "            <tr>\n",
       "                        <th id=\"T_d6b6f8c4_8189_11e9_8606_acde48001122level0_row1\" class=\"row_heading level0 row1\" >Sales</th>\n",
       "                        <td id=\"T_d6b6f8c4_8189_11e9_8606_acde48001122row1_col0\" class=\"data row1 col0\" >0.0186269</td>\n",
       "                        <td id=\"T_d6b6f8c4_8189_11e9_8606_acde48001122row1_col1\" class=\"data row1 col1\" >1</td>\n",
       "                        <td id=\"T_d6b6f8c4_8189_11e9_8606_acde48001122row1_col2\" class=\"data row1 col2\" >0.552456</td>\n",
       "                        <td id=\"T_d6b6f8c4_8189_11e9_8606_acde48001122row1_col3\" class=\"data row1 col3\" >0.369988</td>\n",
       "                        <td id=\"T_d6b6f8c4_8189_11e9_8606_acde48001122row1_col4\" class=\"data row1 col4\" >0.588157</td>\n",
       "                        <td id=\"T_d6b6f8c4_8189_11e9_8606_acde48001122row1_col5\" class=\"data row1 col5\" >-0.0646747</td>\n",
       "                        <td id=\"T_d6b6f8c4_8189_11e9_8606_acde48001122row1_col6\" class=\"data row1 col6\" >-0.112128</td>\n",
       "            </tr>\n",
       "            <tr>\n",
       "                        <th id=\"T_d6b6f8c4_8189_11e9_8606_acde48001122level0_row2\" class=\"row_heading level0 row2\" >Profits</th>\n",
       "                        <td id=\"T_d6b6f8c4_8189_11e9_8606_acde48001122row2_col0\" class=\"data row2 col0\" >0.0305866</td>\n",
       "                        <td id=\"T_d6b6f8c4_8189_11e9_8606_acde48001122row2_col1\" class=\"data row2 col1\" >0.552456</td>\n",
       "                        <td id=\"T_d6b6f8c4_8189_11e9_8606_acde48001122row2_col2\" class=\"data row2 col2\" >1</td>\n",
       "                        <td id=\"T_d6b6f8c4_8189_11e9_8606_acde48001122row2_col3\" class=\"data row2 col3\" >0.577628</td>\n",
       "                        <td id=\"T_d6b6f8c4_8189_11e9_8606_acde48001122row2_col4\" class=\"data row2 col4\" >0.74509</td>\n",
       "                        <td id=\"T_d6b6f8c4_8189_11e9_8606_acde48001122row2_col5\" class=\"data row2 col5\" >-0.0255875</td>\n",
       "                        <td id=\"T_d6b6f8c4_8189_11e9_8606_acde48001122row2_col6\" class=\"data row2 col6\" >0.00588334</td>\n",
       "            </tr>\n",
       "            <tr>\n",
       "                        <th id=\"T_d6b6f8c4_8189_11e9_8606_acde48001122level0_row3\" class=\"row_heading level0 row3\" >Assets</th>\n",
       "                        <td id=\"T_d6b6f8c4_8189_11e9_8606_acde48001122row3_col0\" class=\"data row3 col0\" >-0.0494079</td>\n",
       "                        <td id=\"T_d6b6f8c4_8189_11e9_8606_acde48001122row3_col1\" class=\"data row3 col1\" >0.369988</td>\n",
       "                        <td id=\"T_d6b6f8c4_8189_11e9_8606_acde48001122row3_col2\" class=\"data row3 col2\" >0.577628</td>\n",
       "                        <td id=\"T_d6b6f8c4_8189_11e9_8606_acde48001122row3_col3\" class=\"data row3 col3\" >1</td>\n",
       "                        <td id=\"T_d6b6f8c4_8189_11e9_8606_acde48001122row3_col4\" class=\"data row3 col4\" >0.344105</td>\n",
       "                        <td id=\"T_d6b6f8c4_8189_11e9_8606_acde48001122row3_col5\" class=\"data row3 col5\" >-0.061479</td>\n",
       "                        <td id=\"T_d6b6f8c4_8189_11e9_8606_acde48001122row3_col6\" class=\"data row3 col6\" >0.0817837</td>\n",
       "            </tr>\n",
       "            <tr>\n",
       "                        <th id=\"T_d6b6f8c4_8189_11e9_8606_acde48001122level0_row4\" class=\"row_heading level0 row4\" >Market Value</th>\n",
       "                        <td id=\"T_d6b6f8c4_8189_11e9_8606_acde48001122row4_col0\" class=\"data row4 col0\" >0.122502</td>\n",
       "                        <td id=\"T_d6b6f8c4_8189_11e9_8606_acde48001122row4_col1\" class=\"data row4 col1\" >0.588157</td>\n",
       "                        <td id=\"T_d6b6f8c4_8189_11e9_8606_acde48001122row4_col2\" class=\"data row4 col2\" >0.74509</td>\n",
       "                        <td id=\"T_d6b6f8c4_8189_11e9_8606_acde48001122row4_col3\" class=\"data row4 col3\" >0.344105</td>\n",
       "                        <td id=\"T_d6b6f8c4_8189_11e9_8606_acde48001122row4_col4\" class=\"data row4 col4\" >1</td>\n",
       "                        <td id=\"T_d6b6f8c4_8189_11e9_8606_acde48001122row4_col5\" class=\"data row4 col5\" >-0.0131906</td>\n",
       "                        <td id=\"T_d6b6f8c4_8189_11e9_8606_acde48001122row4_col6\" class=\"data row4 col6\" >-0.00720681</td>\n",
       "            </tr>\n",
       "            <tr>\n",
       "                        <th id=\"T_d6b6f8c4_8189_11e9_8606_acde48001122level0_row5\" class=\"row_heading level0 row5\" >Sector</th>\n",
       "                        <td id=\"T_d6b6f8c4_8189_11e9_8606_acde48001122row5_col0\" class=\"data row5 col0\" >-0.0612744</td>\n",
       "                        <td id=\"T_d6b6f8c4_8189_11e9_8606_acde48001122row5_col1\" class=\"data row5 col1\" >-0.0646747</td>\n",
       "                        <td id=\"T_d6b6f8c4_8189_11e9_8606_acde48001122row5_col2\" class=\"data row5 col2\" >-0.0255875</td>\n",
       "                        <td id=\"T_d6b6f8c4_8189_11e9_8606_acde48001122row5_col3\" class=\"data row5 col3\" >-0.061479</td>\n",
       "                        <td id=\"T_d6b6f8c4_8189_11e9_8606_acde48001122row5_col4\" class=\"data row5 col4\" >-0.0131906</td>\n",
       "                        <td id=\"T_d6b6f8c4_8189_11e9_8606_acde48001122row5_col5\" class=\"data row5 col5\" >1</td>\n",
       "                        <td id=\"T_d6b6f8c4_8189_11e9_8606_acde48001122row5_col6\" class=\"data row5 col6\" >0.0815446</td>\n",
       "            </tr>\n",
       "            <tr>\n",
       "                        <th id=\"T_d6b6f8c4_8189_11e9_8606_acde48001122level0_row6\" class=\"row_heading level0 row6\" >Industry</th>\n",
       "                        <td id=\"T_d6b6f8c4_8189_11e9_8606_acde48001122row6_col0\" class=\"data row6 col0\" >0.00640246</td>\n",
       "                        <td id=\"T_d6b6f8c4_8189_11e9_8606_acde48001122row6_col1\" class=\"data row6 col1\" >-0.112128</td>\n",
       "                        <td id=\"T_d6b6f8c4_8189_11e9_8606_acde48001122row6_col2\" class=\"data row6 col2\" >0.00588334</td>\n",
       "                        <td id=\"T_d6b6f8c4_8189_11e9_8606_acde48001122row6_col3\" class=\"data row6 col3\" >0.0817837</td>\n",
       "                        <td id=\"T_d6b6f8c4_8189_11e9_8606_acde48001122row6_col4\" class=\"data row6 col4\" >-0.00720681</td>\n",
       "                        <td id=\"T_d6b6f8c4_8189_11e9_8606_acde48001122row6_col5\" class=\"data row6 col5\" >0.0815446</td>\n",
       "                        <td id=\"T_d6b6f8c4_8189_11e9_8606_acde48001122row6_col6\" class=\"data row6 col6\" >1</td>\n",
       "            </tr>\n",
       "    </tbody></table>"
      ],
      "text/plain": [
       "<pandas.io.formats.style.Styler at 0x107da9320>"
      ]
     },
     "execution_count": 16,
     "metadata": {},
     "output_type": "execute_result"
    }
   ],
   "source": [
    "corr = data.corr(method='pearson')\n",
    "corr.style.background_gradient(cmap='coolwarm')"
   ]
  },
  {
   "cell_type": "code",
   "execution_count": 17,
   "metadata": {},
   "outputs": [],
   "source": [
    "y = data['Profits']\n",
    "data_X = data.drop(['Profits'], axis=1)\n",
    "\n",
    "X_train, X_test, y_train, y_test = train_test_split(data_X, y, random_state = 100, test_size=0.1)"
   ]
  },
  {
   "cell_type": "code",
   "execution_count": 18,
   "metadata": {},
   "outputs": [
    {
     "name": "stdout",
     "output_type": "stream",
     "text": [
      "6\n"
     ]
    },
    {
     "data": {
      "image/png": "[encoded data removed]",
      "text/plain": [
       "<Figure size 432x288 with 1 Axes>"
      ]
     },
     "metadata": {
      "needs_background": "light"
     },
     "output_type": "display_data"
    }
   ],
   "source": [
    "def plot_feature_importances():\n",
    "    rfr_to_plot = RandomForestRegressor(random_state=100)\n",
    "    rfr_to_plot.fit(X_train, y_train)\n",
    "    n_features = data.shape[1] - 1\n",
    "    print(n_features)\n",
    "    plt.barh(range(n_features), rfr_to_plot.feature_importances_, align='center')\n",
    "    plt.yticks(np.arange(n_features), [i for i in data.columns if i != 'Profits'])\n",
    "    plt.xlabel(\"Важность признаков\")\n",
    "    plt.ylabel(\"Признаки\")\n",
    "    \n",
    "plot_feature_importances()"
   ]
  },
  {
   "cell_type": "markdown",
   "metadata": {},
   "source": [
    "# 5. Выбор метрик для последующей оценки качества моделей. Необходимо выбрать не менее двух метрик и обосновать выбор."
   ]
  },
  {
   "cell_type": "markdown",
   "metadata": {},
   "source": [
    "Для исследования корректности моделей выберем метрики r2_score, mean_squared_error, mean_absolute_error"
   ]
  },
  {
   "cell_type": "markdown",
   "metadata": {},
   "source": [
    "# 6. Выбор наиболее подходящих моделей для решения задачи классификации или регрессии. Необходимо использовать не менее трех моделей, хотя бы одна из которых должна быть ансамблевой."
   ]
  },
  {
   "cell_type": "markdown",
   "metadata": {},
   "source": [
    "Будем исследовать XGBoost, SVR, RandomForestRegressor"
   ]
  },
  {
   "cell_type": "markdown",
   "metadata": {},
   "source": [
    "# 7. Формирование обучающей и тестовой выборок на основе исходного набора данных."
   ]
  },
  {
   "cell_type": "code",
   "execution_count": 19,
   "metadata": {},
   "outputs": [],
   "source": [
    "def predict_test(model, X_train, X_test, y_train, y_test):\n",
    "    pred_train = model.predict(X_train)\n",
    "    pred_test = model.predict(X_test)\n",
    "\n",
    "    print('root mean_squared_error train / test: {:0.3f} / {:0.3f}'.format(\n",
    "        np.sqrt(mean_squared_error(y_train, pred_train)), np.sqrt(mean_squared_error(y_test, pred_test))))\n",
    "    print('r2_score train / test: {:0.3f} / {:0.3f}'.format(\n",
    "        r2_score(y_train, pred_train), r2_score(y_test, pred_test)))\n",
    "    \n",
    "    \n",
    "def cvs_test_print(model, X_train, X_test, y_train, y_test, cv=10):\n",
    "    scores = cross_val_score(model, X_train, y_train, cv=cv)\n",
    "    print(\"Значения правильности перекрестной проверки: {}\".format(scores))\n",
    "    print(\"Среднее: {}.\\nМаксимальное: {}.\\nМинимальное: {}\".format(np.mean(scores), np.max(scores), np.min(scores)))\n",
    "    \n",
    "\n",
    "def compare_predictions(model, test_data, y_test):\n",
    "    fig, ax = plt.subplots(figsize=(15,10)) \n",
    "    plt.plot(np.linspace(0, len(y_test), len(test_data)), model.predict(test_data))\n",
    "    plt.plot(np.linspace(0, len(y_test), len(y_test)), y_test)"
   ]
  },
  {
   "cell_type": "code",
   "execution_count": 20,
   "metadata": {},
   "outputs": [],
   "source": [
    "scaler = MinMaxScaler().fit(X_train)\n",
    "X_train_scaled, X_test_scaled = scaler.transform(X_train), scaler.transform(X_test)"
   ]
  },
  {
   "cell_type": "markdown",
   "metadata": {},
   "source": [
    "# 8. Построение базового решения (baseline) для выбранных моделей без подбора гиперпараметров. Производится обучение моделей на основе обучающей выборки и оценка качества моделей на основе тестовой выборки."
   ]
  },
  {
   "cell_type": "markdown",
   "metadata": {},
   "source": [
    "#### XGBRegressor"
   ]
  },
  {
   "cell_type": "code",
   "execution_count": 32,
   "metadata": {},
   "outputs": [
    {
     "name": "stdout",
     "output_type": "stream",
     "text": [
      "[23:41:33] WARNING: src/objective/regression_obj.cu:152: reg:linear is now deprecated in favor of reg:squarederror.\n",
      "[23:41:33] WARNING: src/objective/regression_obj.cu:152: reg:linear is now deprecated in favor of reg:squarederror.\n",
      "[23:41:33] WARNING: src/objective/regression_obj.cu:152: reg:linear is now deprecated in favor of reg:squarederror.\n",
      "[23:41:33] WARNING: src/objective/regression_obj.cu:152: reg:linear is now deprecated in favor of reg:squarederror.\n",
      "[23:41:33] WARNING: src/objective/regression_obj.cu:152: reg:linear is now deprecated in favor of reg:squarederror.\n",
      "[23:41:33] WARNING: src/objective/regression_obj.cu:152: reg:linear is now deprecated in favor of reg:squarederror.\n",
      "[23:41:33] WARNING: src/objective/regression_obj.cu:152: reg:linear is now deprecated in favor of reg:squarederror.\n",
      "[23:41:33] WARNING: src/objective/regression_obj.cu:152: reg:linear is now deprecated in favor of reg:squarederror.\n",
      "[23:41:33] WARNING: src/objective/regression_obj.cu:152: reg:linear is now deprecated in favor of reg:squarederror.\n",
      "[23:41:33] WARNING: src/objective/regression_obj.cu:152: reg:linear is now deprecated in favor of reg:squarederror.\n",
      "Значения правильности перекрестной проверки: [0.62340742 0.62003689 0.65649444 0.31749559 0.53188976 0.46311515\n",
      " 0.80875176 0.77497396 0.14110075 0.76801187]\n",
      "Среднее: 0.570527759648789.\n",
      "Максимальное: 0.8087517646624529.\n",
      "Минимальное: 0.14110074934524952\n",
      "[23:41:33] WARNING: src/objective/regression_obj.cu:152: reg:linear is now deprecated in favor of reg:squarederror.\n",
      "root mean_squared_error train / test: 1.130 / 1.526\n",
      "r2_score train / test: 0.886 / 0.490\n"
     ]
    }
   ],
   "source": [
    "xgb = XGBRegressor(objective='reg:linear')\n",
    "cvs_test_print(xgb, X_train_scaled, X_test_scaled, y_train, y_test)\n",
    "\n",
    "xgb.fit(X_train_scaled, y_train)\n",
    "predict_test(xgb, X_train_scaled, X_test_scaled, y_train, y_test)"
   ]
  },
  {
   "cell_type": "markdown",
   "metadata": {},
   "source": [
    "#### SVR"
   ]
  },
  {
   "cell_type": "code",
   "execution_count": 22,
   "metadata": {},
   "outputs": [
    {
     "name": "stdout",
     "output_type": "stream",
     "text": [
      "Значения правильности перекрестной проверки: [0.31133742 0.314867   0.37358075 0.25784723 0.29663169 0.289661\n",
      " 0.36364787 0.2725632  0.28837085 0.32027269]\n",
      "Среднее: 0.30887797067013284.\n",
      "Максимальное: 0.37358074836335564.\n",
      "Минимальное: 0.2578472312213296\n",
      "root mean_squared_error train / test: 2.704 / 1.666\n",
      "r2_score train / test: 0.346 / 0.392\n"
     ]
    }
   ],
   "source": [
    "svr = SVR().fit(X_train_scaled, y_train)\n",
    "cvs_test_print(svr, X_train_scaled, X_test_scaled, y_train, y_test)\n",
    "predict_test(svr, X_train_scaled, X_test_scaled, y_train, y_test)"
   ]
  },
  {
   "cell_type": "markdown",
   "metadata": {},
   "source": [
    "#### RFR"
   ]
  },
  {
   "cell_type": "code",
   "execution_count": 23,
   "metadata": {},
   "outputs": [
    {
     "name": "stdout",
     "output_type": "stream",
     "text": [
      "Значения правильности перекрестной проверки: [ 0.50051128  0.62499689  0.75915481  0.28688977  0.64455646  0.53621228\n",
      "  0.80191467  0.76543124 -0.04267511  0.86906844]\n",
      "Среднее: 0.5746060722372002.\n",
      "Максимальное: 0.869068437296908.\n",
      "Минимальное: -0.04267510550905085\n",
      "root mean_squared_error train / test: 0.946 / 1.199\n",
      "r2_score train / test: 0.920 / 0.685\n"
     ]
    }
   ],
   "source": [
    "rfr = RandomForestRegressor().fit(X_train_scaled, y_train)\n",
    "cvs_test_print(rfr, X_train_scaled, X_test_scaled, y_train, y_test)\n",
    "predict_test(rfr, X_train_scaled, X_test_scaled, y_train, y_test)"
   ]
  },
  {
   "cell_type": "markdown",
   "metadata": {},
   "source": [
    "# 9. Подбор гиперпараметров для выбранных моделей.\n",
    "# 10. Повторение пункта 8 для найденных оптимальных значений гиперпараметров. Сравнение качества полученных моделей с качеством baseline-моделей."
   ]
  },
  {
   "cell_type": "markdown",
   "metadata": {},
   "source": [
    "#### XGBRegressor"
   ]
  },
  {
   "cell_type": "code",
   "execution_count": 24,
   "metadata": {
    "collapsed": true
   },
   "outputs": [
    {
     "name": "stdout",
     "output_type": "stream",
     "text": [
      "[23:38:47] WARNING: src/objective/regression_obj.cu:152: reg:linear is now deprecated in favor of reg:squarederror.\n",
      "[23:38:47] WARNING: src/objective/regression_obj.cu:152: reg:linear is now deprecated in favor of reg:squarederror.\n",
      "[23:38:47] WARNING: src/objective/regression_obj.cu:152: reg:linear is now deprecated in favor of reg:squarederror.\n",
      "[23:38:47] WARNING: src/objective/regression_obj.cu:152: reg:linear is now deprecated in favor of reg:squarederror.\n",
      "[23:38:47] WARNING: src/objective/regression_obj.cu:152: reg:linear is now deprecated in favor of reg:squarederror.\n",
      "[23:38:47] WARNING: src/objective/regression_obj.cu:152: reg:linear is now deprecated in favor of reg:squarederror.\n",
      "[23:38:47] WARNING: src/objective/regression_obj.cu:152: reg:linear is now deprecated in favor of reg:squarederror.\n",
      "[23:38:47] WARNING: src/objective/regression_obj.cu:152: reg:linear is now deprecated in favor of reg:squarederror.\n",
      "[23:38:47] WARNING: src/objective/regression_obj.cu:152: reg:linear is now deprecated in favor of reg:squarederror.\n",
      "[23:38:47] WARNING: src/objective/regression_obj.cu:152: reg:linear is now deprecated in favor of reg:squarederror.\n",
      "[23:38:47] WARNING: src/objective/regression_obj.cu:152: reg:linear is now deprecated in favor of reg:squarederror.\n",
      "[23:38:47] WARNING: src/objective/regression_obj.cu:152: reg:linear is now deprecated in favor of reg:squarederror.\n",
      "[23:38:47] WARNING: src/objective/regression_obj.cu:152: reg:linear is now deprecated in favor of reg:squarederror.\n",
      "[23:38:47] WARNING: src/objective/regression_obj.cu:152: reg:linear is now deprecated in favor of reg:squarederror.\n",
      "[23:38:47] WARNING: src/objective/regression_obj.cu:152: reg:linear is now deprecated in favor of reg:squarederror.\n",
      "[23:38:47] WARNING: src/objective/regression_obj.cu:152: reg:linear is now deprecated in favor of reg:squarederror.\n",
      "[23:38:47] WARNING: src/objective/regression_obj.cu:152: reg:linear is now deprecated in favor of reg:squarederror.\n",
      "[23:38:47] WARNING: src/objective/regression_obj.cu:152: reg:linear is now deprecated in favor of reg:squarederror.\n",
      "[23:38:47] WARNING: src/objective/regression_obj.cu:152: reg:linear is now deprecated in favor of reg:squarederror.\n",
      "[23:38:47] WARNING: src/objective/regression_obj.cu:152: reg:linear is now deprecated in favor of reg:squarederror.\n",
      "[23:38:47] WARNING: src/objective/regression_obj.cu:152: reg:linear is now deprecated in favor of reg:squarederror.\n",
      "[23:38:47] WARNING: src/objective/regression_obj.cu:152: reg:linear is now deprecated in favor of reg:squarederror.\n",
      "[23:38:47] WARNING: src/objective/regression_obj.cu:152: reg:linear is now deprecated in favor of reg:squarederror.\n",
      "[23:38:47] WARNING: src/objective/regression_obj.cu:152: reg:linear is now deprecated in favor of reg:squarederror.\n",
      "[23:38:47] WARNING: src/objective/regression_obj.cu:152: reg:linear is now deprecated in favor of reg:squarederror.\n",
      "[23:38:47] WARNING: src/objective/regression_obj.cu:152: reg:linear is now deprecated in favor of reg:squarederror.\n",
      "[23:38:47] WARNING: src/objective/regression_obj.cu:152: reg:linear is now deprecated in favor of reg:squarederror.\n",
      "[23:38:47] WARNING: src/objective/regression_obj.cu:152: reg:linear is now deprecated in favor of reg:squarederror.\n",
      "[23:38:47] WARNING: src/objective/regression_obj.cu:152: reg:linear is now deprecated in favor of reg:squarederror.\n",
      "[23:38:47] WARNING: src/objective/regression_obj.cu:152: reg:linear is now deprecated in favor of reg:squarederror.\n",
      "[23:38:47] WARNING: src/objective/regression_obj.cu:152: reg:linear is now deprecated in favor of reg:squarederror.\n",
      "[23:38:47] WARNING: src/objective/regression_obj.cu:152: reg:linear is now deprecated in favor of reg:squarederror.\n",
      "[23:38:47] WARNING: src/objective/regression_obj.cu:152: reg:linear is now deprecated in favor of reg:squarederror.\n",
      "[23:38:47] WARNING: src/objective/regression_obj.cu:152: reg:linear is now deprecated in favor of reg:squarederror.\n",
      "[23:38:47] WARNING: src/objective/regression_obj.cu:152: reg:linear is now deprecated in favor of reg:squarederror.\n",
      "[23:38:47] WARNING: src/objective/regression_obj.cu:152: reg:linear is now deprecated in favor of reg:squarederror.\n",
      "[23:38:47] WARNING: src/objective/regression_obj.cu:152: reg:linear is now deprecated in favor of reg:squarederror.\n",
      "[23:38:47] WARNING: src/objective/regression_obj.cu:152: reg:linear is now deprecated in favor of reg:squarederror.\n",
      "[23:38:47] WARNING: src/objective/regression_obj.cu:152: reg:linear is now deprecated in favor of reg:squarederror.\n",
      "[23:38:47] WARNING: src/objective/regression_obj.cu:152: reg:linear is now deprecated in favor of reg:squarederror.\n",
      "[23:38:48] WARNING: src/objective/regression_obj.cu:152: reg:linear is now deprecated in favor of reg:squarederror.\n",
      "[23:38:48] WARNING: src/objective/regression_obj.cu:152: reg:linear is now deprecated in favor of reg:squarederror.\n",
      "[23:38:48] WARNING: src/objective/regression_obj.cu:152: reg:linear is now deprecated in favor of reg:squarederror.\n",
      "[23:38:48] WARNING: src/objective/regression_obj.cu:152: reg:linear is now deprecated in favor of reg:squarederror.\n",
      "[23:38:48] WARNING: src/objective/regression_obj.cu:152: reg:linear is now deprecated in favor of reg:squarederror.\n",
      "[23:38:48] WARNING: src/objective/regression_obj.cu:152: reg:linear is now deprecated in favor of reg:squarederror.\n",
      "[23:38:48] WARNING: src/objective/regression_obj.cu:152: reg:linear is now deprecated in favor of reg:squarederror.\n",
      "[23:38:48] WARNING: src/objective/regression_obj.cu:152: reg:linear is now deprecated in favor of reg:squarederror.\n",
      "[23:38:48] WARNING: src/objective/regression_obj.cu:152: reg:linear is now deprecated in favor of reg:squarederror.\n",
      "[23:38:48] WARNING: src/objective/regression_obj.cu:152: reg:linear is now deprecated in favor of reg:squarederror.\n",
      "[23:38:48] WARNING: src/objective/regression_obj.cu:152: reg:linear is now deprecated in favor of reg:squarederror.\n",
      "[23:38:49] WARNING: src/objective/regression_obj.cu:152: reg:linear is now deprecated in favor of reg:squarederror.\n",
      "[23:38:49] WARNING: src/objective/regression_obj.cu:152: reg:linear is now deprecated in favor of reg:squarederror.\n",
      "[23:38:49] WARNING: src/objective/regression_obj.cu:152: reg:linear is now deprecated in favor of reg:squarederror.\n",
      "[23:38:49] WARNING: src/objective/regression_obj.cu:152: reg:linear is now deprecated in favor of reg:squarederror.\n",
      "[23:38:49] WARNING: src/objective/regression_obj.cu:152: reg:linear is now deprecated in favor of reg:squarederror.\n",
      "[23:38:49] WARNING: src/objective/regression_obj.cu:152: reg:linear is now deprecated in favor of reg:squarederror.\n",
      "[23:38:49] WARNING: src/objective/regression_obj.cu:152: reg:linear is now deprecated in favor of reg:squarederror.\n",
      "[23:38:49] WARNING: src/objective/regression_obj.cu:152: reg:linear is now deprecated in favor of reg:squarederror.\n",
      "[23:38:50] WARNING: src/objective/regression_obj.cu:152: reg:linear is now deprecated in favor of reg:squarederror.\n",
      "[23:38:50] WARNING: src/objective/regression_obj.cu:152: reg:linear is now deprecated in favor of reg:squarederror.\n",
      "[23:38:50] WARNING: src/objective/regression_obj.cu:152: reg:linear is now deprecated in favor of reg:squarederror.\n",
      "[23:38:50] WARNING: src/objective/regression_obj.cu:152: reg:linear is now deprecated in favor of reg:squarederror.\n",
      "[23:38:50] WARNING: src/objective/regression_obj.cu:152: reg:linear is now deprecated in favor of reg:squarederror.\n",
      "[23:38:50] WARNING: src/objective/regression_obj.cu:152: reg:linear is now deprecated in favor of reg:squarederror.\n",
      "[23:38:51] WARNING: src/objective/regression_obj.cu:152: reg:linear is now deprecated in favor of reg:squarederror.\n",
      "[23:38:51] WARNING: src/objective/regression_obj.cu:152: reg:linear is now deprecated in favor of reg:squarederror.\n",
      "[23:38:51] WARNING: src/objective/regression_obj.cu:152: reg:linear is now deprecated in favor of reg:squarederror.\n",
      "[23:38:51] WARNING: src/objective/regression_obj.cu:152: reg:linear is now deprecated in favor of reg:squarederror.\n",
      "[23:38:52] WARNING: src/objective/regression_obj.cu:152: reg:linear is now deprecated in favor of reg:squarederror.\n",
      "[23:38:52] WARNING: src/objective/regression_obj.cu:152: reg:linear is now deprecated in favor of reg:squarederror.\n"
     ]
    },
    {
     "name": "stdout",
     "output_type": "stream",
     "text": [
      "[23:38:52] WARNING: src/objective/regression_obj.cu:152: reg:linear is now deprecated in favor of reg:squarederror.\n",
      "[23:38:52] WARNING: src/objective/regression_obj.cu:152: reg:linear is now deprecated in favor of reg:squarederror.\n",
      "[23:38:53] WARNING: src/objective/regression_obj.cu:152: reg:linear is now deprecated in favor of reg:squarederror.\n",
      "[23:38:53] WARNING: src/objective/regression_obj.cu:152: reg:linear is now deprecated in favor of reg:squarederror.\n",
      "[23:38:53] WARNING: src/objective/regression_obj.cu:152: reg:linear is now deprecated in favor of reg:squarederror.\n",
      "[23:38:53] WARNING: src/objective/regression_obj.cu:152: reg:linear is now deprecated in favor of reg:squarederror.\n",
      "[23:38:54] WARNING: src/objective/regression_obj.cu:152: reg:linear is now deprecated in favor of reg:squarederror.\n",
      "[23:38:54] WARNING: src/objective/regression_obj.cu:152: reg:linear is now deprecated in favor of reg:squarederror.\n",
      "[23:38:54] WARNING: src/objective/regression_obj.cu:152: reg:linear is now deprecated in favor of reg:squarederror.\n",
      "[23:38:54] WARNING: src/objective/regression_obj.cu:152: reg:linear is now deprecated in favor of reg:squarederror.\n",
      "[23:38:55] WARNING: src/objective/regression_obj.cu:152: reg:linear is now deprecated in favor of reg:squarederror.\n",
      "[23:38:55] WARNING: src/objective/regression_obj.cu:152: reg:linear is now deprecated in favor of reg:squarederror.\n",
      "[23:38:55] WARNING: src/objective/regression_obj.cu:152: reg:linear is now deprecated in favor of reg:squarederror.\n",
      "[23:38:56] WARNING: src/objective/regression_obj.cu:152: reg:linear is now deprecated in favor of reg:squarederror.\n",
      "[23:38:56] WARNING: src/objective/regression_obj.cu:152: reg:linear is now deprecated in favor of reg:squarederror.\n",
      "[23:38:56] WARNING: src/objective/regression_obj.cu:152: reg:linear is now deprecated in favor of reg:squarederror.\n",
      "[23:38:57] WARNING: src/objective/regression_obj.cu:152: reg:linear is now deprecated in favor of reg:squarederror.\n",
      "[23:38:57] WARNING: src/objective/regression_obj.cu:152: reg:linear is now deprecated in favor of reg:squarederror.\n",
      "[23:38:57] WARNING: src/objective/regression_obj.cu:152: reg:linear is now deprecated in favor of reg:squarederror.\n",
      "[23:38:58] WARNING: src/objective/regression_obj.cu:152: reg:linear is now deprecated in favor of reg:squarederror.\n"
     ]
    },
    {
     "data": {
      "text/plain": [
       "GridSearchCV(cv=10, error_score='raise-deprecating',\n",
       "       estimator=XGBRegressor(base_score=0.5, booster='gbtree', colsample_bylevel=1,\n",
       "       colsample_bynode=1, colsample_bytree=1, gamma=0,\n",
       "       importance_type='gain', learning_rate=0.1, max_delta_step=0,\n",
       "       max_depth=3, min_child_weight=1, missing=None, n_estimators=100,\n",
       "       n_jobs=1, nthread=None, objective='reg:linear', random_state=0,\n",
       "       reg_alpha=0, reg_lambda=1, scale_pos_weight=1, seed=None,\n",
       "       silent=None, subsample=1, verbosity=1),\n",
       "       fit_params=None, iid='warn', n_jobs=None,\n",
       "       param_grid={'n_estimators': [10, 20, 50, 100, 200, 300, 500, 600, 700]},\n",
       "       pre_dispatch='2*n_jobs', refit=True, return_train_score='warn',\n",
       "       scoring=None, verbose=0)"
      ]
     },
     "execution_count": 24,
     "metadata": {},
     "output_type": "execute_result"
    }
   ],
   "source": [
    "xgb_grid_params = {\n",
    "    'n_estimators': [10, 20, 50, 100, 200, 300, 500, 600, 700]\n",
    "}\n",
    "\n",
    "xgb_grid = GridSearchCV(XGBRegressor(), xgb_grid_params, cv = 10)\n",
    "xgb_grid.fit(X_train, y_train)"
   ]
  },
  {
   "cell_type": "code",
   "execution_count": 25,
   "metadata": {},
   "outputs": [
    {
     "name": "stdout",
     "output_type": "stream",
     "text": [
      "Лучший результат модели XGBoost с использованием GridSearchCV: 0.5936804431444888\n",
      "Наилучшие значения параметров: {'n_estimators': 500}\n"
     ]
    }
   ],
   "source": [
    "print(\"Лучший результат модели XGBoost с использованием GridSearchCV:\",\n",
    "      xgb_grid.best_score_)\n",
    "print(\"Наилучшие значения параметров: {}\".format(xgb_grid.best_params_))"
   ]
  },
  {
   "cell_type": "markdown",
   "metadata": {},
   "source": [
    "#### RFR"
   ]
  },
  {
   "cell_type": "code",
   "execution_count": 26,
   "metadata": {
    "collapsed": true
   },
   "outputs": [
    {
     "data": {
      "text/plain": [
       "GridSearchCV(cv=10, error_score='raise-deprecating',\n",
       "       estimator=RandomForestRegressor(bootstrap=True, criterion='mse', max_depth=None,\n",
       "           max_features='auto', max_leaf_nodes=None,\n",
       "           min_impurity_decrease=0.0, min_impurity_split=None,\n",
       "           min_samples_leaf=1, min_samples_split=2,\n",
       "           min_weight_fraction_leaf=0.0, n_estimators='warn', n_jobs=None,\n",
       "           oob_score=False, random_state=None, verbose=0, warm_start=False),\n",
       "       fit_params=None, iid='warn', n_jobs=None,\n",
       "       param_grid={'max_depth': [1, 2, 5, 10, 20], 'n_estimators': [1, 5, 10, 50, 100, 200]},\n",
       "       pre_dispatch='2*n_jobs', refit=True, return_train_score='warn',\n",
       "       scoring=None, verbose=0)"
      ]
     },
     "execution_count": 26,
     "metadata": {},
     "output_type": "execute_result"
    }
   ],
   "source": [
    "rfr_grid_params = {\n",
    "    'max_depth': [1, 2, 5, 10, 20],\n",
    "    'n_estimators': [1, 5, 10, 50, 100, 200]\n",
    "}\n",
    "\n",
    "rfr_grid = GridSearchCV(RandomForestRegressor(), rfr_grid_params, cv=10)\n",
    "rfr_grid.fit(X_train_scaled, y_train)"
   ]
  },
  {
   "cell_type": "code",
   "execution_count": 27,
   "metadata": {},
   "outputs": [
    {
     "name": "stdout",
     "output_type": "stream",
     "text": [
      "Лучший результат модели RandomForestRegressor с использованием GridSearchCV: 0.5992345348936468\n",
      "Наилучшие значения параметров: {'max_depth': 20, 'n_estimators': 200}\n",
      "root mean_squared_error train / test: 0.723 / 1.307\n",
      "r2_score train / test: 0.953 / 0.626\n"
     ]
    }
   ],
   "source": [
    "print(\"Лучший результат модели RandomForestRegressor с использованием GridSearchCV:\",\n",
    "      rfr_grid.best_score_)\n",
    "print(\"Наилучшие значения параметров: {}\".format(rfr_grid.best_params_))\n",
    "predict_test(rfr_grid, X_train_scaled, X_test_scaled, y_train, y_test)"
   ]
  },
  {
   "cell_type": "markdown",
   "metadata": {},
   "source": [
    "#### SVR"
   ]
  },
  {
   "cell_type": "code",
   "execution_count": 25,
   "metadata": {},
   "outputs": [
    {
     "data": {
      "text/plain": [
       "GridSearchCV(cv=5, error_score='raise-deprecating',\n",
       "       estimator=SVR(C=1.0, cache_size=200, coef0=0.0, degree=3, epsilon=0.1,\n",
       "  gamma='auto_deprecated', kernel='rbf', max_iter=-1, shrinking=True,\n",
       "  tol=0.001, verbose=False),\n",
       "       fit_params=None, iid='warn', n_jobs=None,\n",
       "       param_grid={'C': array([1.e-01, 1.e+00, 1.e+01, 1.e+02, 1.e+03]), 'gamma': array([1.e-03, 1.e-02, 1.e-01, 1.e+00, 1.e+01])},\n",
       "       pre_dispatch='2*n_jobs', refit=True, return_train_score='warn',\n",
       "       scoring=None, verbose=0)"
      ]
     },
     "execution_count": 25,
     "metadata": {},
     "output_type": "execute_result"
    }
   ],
   "source": [
    "svr_grid_params = {'C': np.array([0.1, 1, 10, 100, 1000]), 'gamma': np.array([0.001, 0.01, 0.1, 1, 10])}\n",
    "svr_grid = GridSearchCV(SVR(), svr_grid_params, cv=5)\n",
    "svr_grid.fit(X_train_scaled, y_train)"
   ]
  },
  {
   "cell_type": "code",
   "execution_count": 26,
   "metadata": {},
   "outputs": [
    {
     "name": "stdout",
     "output_type": "stream",
     "text": [
      "Наил знач правильности перекр проверки: 0.62\n",
      "Наил знач правильности на тесте: 0.74\n",
      "Наил параметры:  {'C': 1000.0, 'gamma': 0.01}\n"
     ]
    }
   ],
   "source": [
    "print(\"Наил знач правильности перекр проверки: {:.2f}\".format(svr_grid.best_score_))\n",
    "print(\"Наил знач правильности на тесте: {:.2f}\".format(svr_grid.score(X_test_scaled, y_test)))\n",
    "print(\"Наил параметры: \", svr_grid.best_params_)"
   ]
  },
  {
   "cell_type": "markdown",
   "metadata": {},
   "source": [
    "# 11. Формирование выводов о качестве построенных моделей на основе выбранных метрик."
   ]
  },
  {
   "cell_type": "markdown",
   "metadata": {},
   "source": [
    "### Из вышеприведенных исследований можно сделать вывод, что лучшей среди всех используемых моделей оказалась SVR.\n",
    "\n",
    "Наилучшее значечние правильности cros_val_score: 0.62\n",
    "Наилучшее значение правильности на тесте: 0.74\n",
    "Наилучгие параметры:  {'C': 1000.0, 'gamma': 1.0}"
   ]
  },
  {
   "cell_type": "code",
   "execution_count": 30,
   "metadata": {},
   "outputs": [
    {
     "data": {
      "image/png": "[encoded data removed]",
      "text/plain": [
       "<Figure size 1080x720 with 1 Axes>"
      ]
     },
     "metadata": {
      "needs_background": "light"
     },
     "output_type": "display_data"
    }
   ],
   "source": [
    "compare_predictions(svr_grid, X_test_scaled, y_test)"
   ]
  },
  {
   "cell_type": "code",
   "execution_count": null,
   "metadata": {},
   "outputs": [],
   "source": []
  }
 ],
 "metadata": {
  "kernelspec": {
   "display_name": "Python 3",
   "language": "python",
   "name": "python3"
  },
  "language_info": {
   "codemirror_mode": {
    "name": "ipython",
    "version": 3
   },
   "file_extension": ".py",
   "mimetype": "text/x-python",
   "name": "python",
   "nbconvert_exporter": "python",
   "pygments_lexer": "ipython3",
   "version": "3.7.2"
  }
 },
 "nbformat": 4,
 "nbformat_minor": 2
}
